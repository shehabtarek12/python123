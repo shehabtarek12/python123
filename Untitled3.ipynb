{
  "nbformat": 4,
  "nbformat_minor": 0,
  "metadata": {
    "colab": {
      "provenance": []
    },
    "kernelspec": {
      "name": "python3",
      "display_name": "Python 3"
    },
    "language_info": {
      "name": "python"
    }
  },
  "cells": [
    {
      "cell_type": "code",
      "execution_count": null,
      "metadata": {
        "colab": {
          "base_uri": "https://localhost:8080/"
        },
        "id": "HMfZuEunoQZg",
        "outputId": "7bf24ce0-795d-4926-9e35-a5ad0b6b1462"
      },
      "outputs": [
        {
          "output_type": "stream",
          "name": "stdout",
          "text": [
            "False\n",
            "True\n"
          ]
        }
      ],
      "source": [
        "# Test whether none of the elements of a given array is zero\n",
        "import numpy as np\n",
        "def all_zero (arr):\n",
        "  return np.all(arr!=0)\n",
        "arr1 = np.array([1,2,3,4,5])\n",
        "arr2 = np.array([0,2,2,2,3,4])\n",
        "print(all_zero(arr2))\n",
        "print(all_zero(arr1))"
      ]
    },
    {
      "cell_type": "code",
      "source": [
        "# Test whether any of the elements of a given array is non-zero\n",
        "def any_all(arr):\n",
        "  return np.any(arr!=0)\n",
        "arr1 = np.any([1,2,3,4,5])\n",
        "arr2 = np.any([0,1,2,3,4])\n",
        "arr3 = np.any([0,0,0,0,0,0])\n",
        "print (any_all(arr1))\n",
        "print (any_all(arr2))\n",
        "print (any_all(arr3))\n"
      ],
      "metadata": {
        "colab": {
          "base_uri": "https://localhost:8080/"
        },
        "id": "QC0ZmjJ7pCeO",
        "outputId": "4e798dc7-77ad-4b6a-b93f-b23fb656c8b8"
      },
      "execution_count": null,
      "outputs": [
        {
          "output_type": "stream",
          "name": "stdout",
          "text": [
            "True\n",
            "True\n",
            "False\n"
          ]
        }
      ]
    },
    {
      "cell_type": "code",
      "source": [
        "# Create an element-wise comparison (equal, equal within a tolerance) of two given arrays\n",
        "zero_array = np.zeros(10)\n",
        "ones_array = np.ones(10)\n",
        "fives_array = np.full(10,5)\n",
        "result = np.concatenate ((zero_array,ones_array,fives_array))\n",
        "print(result)"
      ],
      "metadata": {
        "colab": {
          "base_uri": "https://localhost:8080/"
        },
        "id": "ClD3mZXNpQtc",
        "outputId": "16258b2c-f326-4942-e24c-efcbf36cff5e"
      },
      "execution_count": null,
      "outputs": [
        {
          "output_type": "stream",
          "name": "stdout",
          "text": [
            "[0. 0. 0. 0. 0. 0. 0. 0. 0. 0. 1. 1. 1. 1. 1. 1. 1. 1. 1. 1. 5. 5. 5. 5.\n",
            " 5. 5. 5. 5. 5. 5.]\n"
          ]
        }
      ]
    },
    {
      "cell_type": "code",
      "source": [
        "# Create an array of the integers from 30 to 70\n",
        "integer_array = np.arange(30,70)\n",
        "print(integer_array)"
      ],
      "metadata": {
        "colab": {
          "base_uri": "https://localhost:8080/"
        },
        "id": "1-pktG7WsysM",
        "outputId": "4104116a-d1a8-451a-b47d-31adbc5ad991"
      },
      "execution_count": null,
      "outputs": [
        {
          "output_type": "stream",
          "name": "stdout",
          "text": [
            "[30 31 32 33 34 35 36 37 38 39 40 41 42 43 44 45 46 47 48 49 50 51 52 53\n",
            " 54 55 56 57 58 59 60 61 62 63 64 65 66 67 68 69]\n"
          ]
        }
      ]
    },
    {
      "cell_type": "code",
      "source": [
        "#  Create a 3x3 identity matrix\n",
        "creat_matirx = np.eye(3)\n",
        "print(creat_matirx)"
      ],
      "metadata": {
        "colab": {
          "base_uri": "https://localhost:8080/"
        },
        "id": "lb6XinCms2hl",
        "outputId": "de54035c-d52b-44e6-c3c0-19674e716c8c"
      },
      "execution_count": null,
      "outputs": [
        {
          "output_type": "stream",
          "name": "stdout",
          "text": [
            "[[1. 0. 0.]\n",
            " [0. 1. 0.]\n",
            " [0. 0. 1.]]\n"
          ]
        }
      ]
    },
    {
      "cell_type": "code",
      "source": [
        "random_number  = np.random.rand()\n",
        "print(random_number)"
      ],
      "metadata": {
        "colab": {
          "base_uri": "https://localhost:8080/"
        },
        "id": "hBWFumyDuOY0",
        "outputId": "3421ab26-a0e8-476b-e2c7-46de124cf095"
      },
      "execution_count": null,
      "outputs": [
        {
          "output_type": "stream",
          "name": "stdout",
          "text": [
            "0.5753306213730794\n"
          ]
        }
      ]
    },
    {
      "cell_type": "code",
      "source": [
        "# Write a NumPy program to generate an array of 15 random numbers from a standard normal\n",
        "# distribution\n",
        "import numpy as np\n",
        "\n",
        "random_array = np.random.randn(15)\n",
        "print(random_array)\n"
      ],
      "metadata": {
        "colab": {
          "base_uri": "https://localhost:8080/"
        },
        "id": "yu3BFd-tucys",
        "outputId": "50a97a6f-2680-443b-ae41-d935835cc9b2"
      },
      "execution_count": null,
      "outputs": [
        {
          "output_type": "stream",
          "name": "stdout",
          "text": [
            "[-0.56963025 -0.43058149 -0.71154408  0.33509295  1.23363997 -0.9337908\n",
            "  0.49102308  0.90087991  0.59611808  1.00114705  0.56462414  0.53771853\n",
            " -1.73196631 -1.33920276 -1.13207731]\n"
          ]
        }
      ]
    },
    {
      "cell_type": "code",
      "source": [
        "# Write a NumPy program to create a vector with values ranging from 15 to 55 and print all values\n",
        "# except the first and last.\n",
        "result = np.arange(15,55)\n",
        "print (result[1:-1])"
      ],
      "metadata": {
        "colab": {
          "base_uri": "https://localhost:8080/"
        },
        "id": "M2uIGioAvZpm",
        "outputId": "8e5fff21-f0af-4b21-b619-fec4650b5742"
      },
      "execution_count": null,
      "outputs": [
        {
          "output_type": "stream",
          "name": "stdout",
          "text": [
            "[15 16 17 18 19 20 21 22 23 24 25 26 27 28 29 30 31 32 33 34 35 36 37 38\n",
            " 39 40 41 42 43 44 45 46 47 48 49 50 51 52 53 54]\n"
          ]
        }
      ]
    },
    {
      "cell_type": "code",
      "source": [
        "# Create a vector of length 5 filled with arbitrary integers from 0 to 10\n",
        "result = np.random.randint(0,11,size = 5)\n",
        "print(result)"
      ],
      "metadata": {
        "id": "MD_SjcELFyYV",
        "colab": {
          "base_uri": "https://localhost:8080/"
        },
        "outputId": "f30b8c4a-d655-4cf9-ea81-4a499b7d9e44"
      },
      "execution_count": null,
      "outputs": [
        {
          "output_type": "stream",
          "name": "stdout",
          "text": [
            "[10  6  2  2  1]\n"
          ]
        }
      ]
    },
    {
      "cell_type": "code",
      "source": [
        "import numpy as np\n",
        "\n",
        "matrix = np.zeros((10, 10))\n",
        "matrix[0, :] = 1\n",
        "matrix[-1, :] = 1\n",
        "matrix[:, 0] = 1\n",
        "matrix[:, -1] = 1\n",
        "\n",
        "# matrix[:, -1] = 1\n",
        "\n",
        "print(matrix)\n"
      ],
      "metadata": {
        "colab": {
          "base_uri": "https://localhost:8080/"
        },
        "id": "fUZJpeECkv8C",
        "outputId": "4e0ee136-c831-4ef1-e793-ed47bbaaa515"
      },
      "execution_count": 2,
      "outputs": [
        {
          "output_type": "stream",
          "name": "stdout",
          "text": [
            "[[1. 1. 1. 1. 1. 1. 1. 1. 1. 1.]\n",
            " [1. 0. 0. 0. 0. 0. 0. 0. 0. 1.]\n",
            " [1. 0. 0. 0. 0. 0. 0. 0. 0. 1.]\n",
            " [1. 0. 0. 0. 0. 0. 0. 0. 0. 1.]\n",
            " [1. 0. 0. 0. 0. 0. 0. 0. 0. 1.]\n",
            " [1. 0. 0. 0. 0. 0. 0. 0. 0. 1.]\n",
            " [1. 0. 0. 0. 0. 0. 0. 0. 0. 1.]\n",
            " [1. 0. 0. 0. 0. 0. 0. 0. 0. 1.]\n",
            " [1. 0. 0. 0. 0. 0. 0. 0. 0. 1.]\n",
            " [1. 1. 1. 1. 1. 1. 1. 1. 1. 1.]]\n"
          ]
        }
      ]
    },
    {
      "cell_type": "code",
      "source": [
        "# Create a 5x5 zero matrix with elements on the main diagonal equal to 1, 2, 3, 4, 5\n",
        "# import numpy as np\n",
        "\n",
        "diagonal_values = np.arange(1, 6)\n",
        "matrix = np.diag(diagonal_values)\n",
        "\n",
        "print(matrix)\n"
      ],
      "metadata": {
        "colab": {
          "base_uri": "https://localhost:8080/"
        },
        "id": "3iN1e87_9gNp",
        "outputId": "fac6dd77-ab3c-42c0-c698-cf5e01c40297"
      },
      "execution_count": null,
      "outputs": [
        {
          "output_type": "stream",
          "name": "stdout",
          "text": [
            "[]\n"
          ]
        }
      ]
    },
    {
      "cell_type": "code",
      "source": [
        "# . Write a NumPy program to create a 4x4 matrix in which 0 and 1 are staggered, with zeros on the main\n",
        "# diagonal.\n",
        "\n",
        "import numpy as np\n",
        "\n",
        "matrix = np.zeros((4, 4))\n",
        "matrix[::2, 1::2] = 1\n",
        "matrix[1::2, ::2] = 1\n",
        "\n",
        "print(matrix)\n",
        "\n"
      ],
      "metadata": {
        "colab": {
          "base_uri": "https://localhost:8080/"
        },
        "id": "BZ-VCggZAxro",
        "outputId": "6f6f2c05-4311-474a-f9da-41248755c9fb"
      },
      "execution_count": 4,
      "outputs": [
        {
          "output_type": "stream",
          "name": "stdout",
          "text": [
            "[[0. 1. 0. 1.]\n",
            " [1. 0. 1. 0.]\n",
            " [0. 1. 0. 1.]\n",
            " [1. 0. 1. 0.]]\n"
          ]
        }
      ]
    },
    {
      "cell_type": "code",
      "source": [
        "# Write a NumPy program to save two given arrays into a single file in compressed format (.npz format)\n",
        "# and load it.\n",
        "import numpy as np\n",
        "\n",
        "arr1 = np.array([1, 2, 3, 4])\n",
        "arr2 = np.array([5, 6, 7, 8])\n",
        "\n",
        "np.savez_compressed('arrays.npz', arr1=arr1, arr2=arr2)\n",
        "\n",
        "\n",
        "loaded_data = np.load('arrays.npz')\n",
        "loaded_arr1 = loaded_data['arr1']\n",
        "loaded_arr2 = loaded_data['arr2']\n",
        "\n",
        "print(\"loaded_arr1\",loaded_arr1)\n",
        "print(\"loaded_arr2\",loaded_arr2)\n"
      ],
      "metadata": {
        "colab": {
          "base_uri": "https://localhost:8080/"
        },
        "id": "uAfOrivakpPq",
        "outputId": "29356074-6289-4263-8c9b-c1159a6c46fd"
      },
      "execution_count": 8,
      "outputs": [
        {
          "output_type": "stream",
          "name": "stdout",
          "text": [
            "loaded_arr1 [1 2 3 4]\n",
            "loaded_arr2 [5 6 7 8]\n"
          ]
        }
      ]
    },
    {
      "cell_type": "code",
      "source": [
        "# Create a one-dimensional array of forty pseudo-randomly generated values. Select values greater than 0.5\n",
        "import numpy as np\n",
        "\n",
        "random_values = np.random.rand(40)\n",
        "selected_values = random_values[random_values > 0.5]\n",
        "\n",
        "print(selected_values)\n"
      ],
      "metadata": {
        "colab": {
          "base_uri": "https://localhost:8080/"
        },
        "id": "EvCapsTNleoC",
        "outputId": "97415580-a028-4f39-90d2-1b5095dc7274"
      },
      "execution_count": 9,
      "outputs": [
        {
          "output_type": "stream",
          "name": "stdout",
          "text": [
            "[0.57149232 0.64622496 0.68640591 0.56437659 0.55111694 0.79602847\n",
            " 0.75039379 0.86179773 0.88865176 0.75015352 0.89948938 0.55325758\n",
            " 0.60799503 0.97390679 0.96729279 0.6665527  0.99660595 0.86903938]\n"
          ]
        }
      ]
    }
  ]
}